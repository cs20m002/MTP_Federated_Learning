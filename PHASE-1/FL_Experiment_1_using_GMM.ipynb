{
  "nbformat": 4,
  "nbformat_minor": 0,
  "metadata": {
    "colab": {
      "name": "Kali_FL_Federated_Learning_Experiment_1.ipynb",
      "provenance": [],
      "collapsed_sections": []
    },
    "kernelspec": {
      "name": "python3",
      "display_name": "Python 3"
    },
    "language_info": {
      "name": "python"
    }
  },
  "cells": [
    {
      "cell_type": "markdown",
      "metadata": {
        "id": "-ayCLd0LNC6g"
      },
      "source": [
        "**Loading Data sets and shuffling**"
      ]
    },
    {
      "cell_type": "code",
      "metadata": {
        "id": "EHYFw1ZY2w4w"
      },
      "source": [
        "import numpy as np\n",
        "from sklearn.datasets import load_digits\n",
        "from sklearn.ensemble import RandomForestClassifier\n",
        "from sklearn.mixture import GaussianMixture"
      ],
      "execution_count": null,
      "outputs": []
    },
    {
      "cell_type": "code",
      "metadata": {
        "id": "NlrQ0MX_29Se"
      },
      "source": [
        "X1, y1 = load_digits(return_X_y=True)"
      ],
      "execution_count": null,
      "outputs": []
    },
    {
      "cell_type": "code",
      "metadata": {
        "colab": {
          "base_uri": "https://localhost:8080/"
        },
        "id": "65-7Cag34bjN",
        "outputId": "f39d4524-4de6-46d0-8094-607e4511b1ee"
      },
      "source": [
        "ind_arr = np.arange(0,X1.shape[0])\n",
        "print (ind_arr)"
      ],
      "execution_count": null,
      "outputs": [
        {
          "output_type": "stream",
          "name": "stdout",
          "text": [
            "[   0    1    2 ... 1794 1795 1796]\n"
          ]
        }
      ]
    },
    {
      "cell_type": "code",
      "metadata": {
        "id": "zesK6q244QEv"
      },
      "source": [
        "np.random.shuffle(ind_arr)"
      ],
      "execution_count": null,
      "outputs": []
    },
    {
      "cell_type": "code",
      "metadata": {
        "colab": {
          "base_uri": "https://localhost:8080/"
        },
        "id": "OpXneSLL4jsw",
        "outputId": "1240fd50-d52b-42a7-fd6d-fd75dc521323"
      },
      "source": [
        "print (ind_arr)"
      ],
      "execution_count": null,
      "outputs": [
        {
          "output_type": "stream",
          "name": "stdout",
          "text": [
            "[ 274  709  251 ... 1096  406  268]\n"
          ]
        }
      ]
    },
    {
      "cell_type": "code",
      "metadata": {
        "id": "Nuo0ytNx3HZd"
      },
      "source": [
        "# reshuffled original data\n",
        "X = X1[ind_arr]\n",
        "y = y1[ind_arr]"
      ],
      "execution_count": null,
      "outputs": []
    },
    {
      "cell_type": "code",
      "metadata": {
        "colab": {
          "base_uri": "https://localhost:8080/"
        },
        "id": "-pccxSGz40Zb",
        "outputId": "7bedb1c0-6676-4a57-a6a7-e96d421a56d7"
      },
      "source": [
        "# redundant step\n",
        "print (X.shape, y.shape)\n",
        "# print (X1.shape, y1.shape)"
      ],
      "execution_count": null,
      "outputs": [
        {
          "output_type": "stream",
          "name": "stdout",
          "text": [
            "(1797, 64) (1797,)\n"
          ]
        }
      ]
    },
    {
      "cell_type": "code",
      "metadata": {
        "colab": {
          "base_uri": "https://localhost:8080/"
        },
        "id": "vKIbdMp-3JOR",
        "outputId": "7ae8e9a6-20a0-4558-9488-d3c33b30a77a"
      },
      "source": [
        "print (y)"
      ],
      "execution_count": null,
      "outputs": [
        {
          "output_type": "stream",
          "name": "stdout",
          "text": [
            "[8 3 9 ... 9 0 2]\n"
          ]
        }
      ]
    },
    {
      "cell_type": "code",
      "metadata": {
        "id": "aZEta33S3boh"
      },
      "source": [
        "ind_digits = []\n",
        "\n",
        "for i in range(10) :\n",
        "  _, ind_i = np.where([y==i])\n",
        "  # print(ind_i)\n",
        "  ind_digits.append(ind_i)\n",
        "  # print(\"\\n\")"
      ],
      "execution_count": null,
      "outputs": []
    },
    {
      "cell_type": "code",
      "metadata": {
        "id": "SIZH8nlJNBV3"
      },
      "source": [
        ""
      ],
      "execution_count": null,
      "outputs": []
    },
    {
      "cell_type": "markdown",
      "metadata": {
        "id": "VI4xRhwt6jhn"
      },
      "source": [
        "# Create a central data set"
      ]
    },
    {
      "cell_type": "code",
      "metadata": {
        "id": "zUlYIq0d9HZ6"
      },
      "source": [
        "n_pts = 5"
      ],
      "execution_count": null,
      "outputs": []
    },
    {
      "cell_type": "code",
      "metadata": {
        "id": "T-M70en75eks"
      },
      "source": [
        "dummy_list = []\n",
        "\n",
        "for i in range(10) :\n",
        "  ind = ind_digits[i][0:n_pts]\n",
        "  dummy_list.extend(ind)  # extend so that 1D [ind[0], ind[1],...] array not like this [[ind]]\n",
        "\n",
        "X_central = X[dummy_list]\n",
        "y_central = y[dummy_list]"
      ],
      "execution_count": null,
      "outputs": []
    },
    {
      "cell_type": "code",
      "metadata": {
        "colab": {
          "base_uri": "https://localhost:8080/"
        },
        "id": "0hh5imG5O5PU",
        "outputId": "f22c705f-e327-42cd-fddb-70e8490ce321"
      },
      "source": [
        "print(type(X_central))\n",
        "print(X_central.shape)"
      ],
      "execution_count": null,
      "outputs": [
        {
          "output_type": "stream",
          "name": "stdout",
          "text": [
            "<class 'numpy.ndarray'>\n",
            "(50, 64)\n"
          ]
        }
      ]
    },
    {
      "cell_type": "markdown",
      "metadata": {
        "id": "dkd5Br0h8uoS"
      },
      "source": [
        "# Create a centralized model"
      ]
    },
    {
      "cell_type": "code",
      "metadata": {
        "colab": {
          "base_uri": "https://localhost:8080/"
        },
        "id": "wY8loevf8wbt",
        "outputId": "1a65ebdf-53cc-49ef-81d6-9a7cd9f8fe12"
      },
      "source": [
        "clf_central = RandomForestClassifier()\n",
        "clf_central.fit(X_central,y_central)"
      ],
      "execution_count": null,
      "outputs": [
        {
          "output_type": "execute_result",
          "data": {
            "text/plain": [
              "RandomForestClassifier(bootstrap=True, ccp_alpha=0.0, class_weight=None,\n",
              "                       criterion='gini', max_depth=None, max_features='auto',\n",
              "                       max_leaf_nodes=None, max_samples=None,\n",
              "                       min_impurity_decrease=0.0, min_impurity_split=None,\n",
              "                       min_samples_leaf=1, min_samples_split=2,\n",
              "                       min_weight_fraction_leaf=0.0, n_estimators=100,\n",
              "                       n_jobs=None, oob_score=False, random_state=None,\n",
              "                       verbose=0, warm_start=False)"
            ]
          },
          "metadata": {},
          "execution_count": 13
        }
      ]
    },
    {
      "cell_type": "markdown",
      "metadata": {
        "id": "fqzxtd_N6mb7"
      },
      "source": [
        "# Create digitwise local data sets"
      ]
    },
    {
      "cell_type": "code",
      "metadata": {
        "id": "BZ-IrD8-6ikc"
      },
      "source": [
        "local_Xy = []\n",
        "\n",
        "for i in range(10) :\n",
        "\n",
        "  ind_i = ind_digits[i][n_pts:]\n",
        "  # print(ind_i)\n",
        "  local_X = X[ind_i]\n",
        "  local_y = y[ind_i]\n",
        "\n",
        "  # append central data to this local data\n",
        "\n",
        "  # print (local_X.shape, X_central.shape, local_y.shape, y_central.shape)\n",
        "\n",
        "  X_cat = np.concatenate((local_X,X_central))\n",
        "  y_cat = np.concatenate((local_y,y_central))\n",
        "\n",
        "  # print (X_cat.shape,y_cat.shape)\n",
        "\n",
        "  local_Xy.append((X_cat,y_cat))"
      ],
      "execution_count": null,
      "outputs": []
    },
    {
      "cell_type": "code",
      "metadata": {
        "id": "OOXxGZgXRpat"
      },
      "source": [
        "# practice\n",
        "# X = np.array([[0, 1, 2], [3, 4, 5], [3, 4, 5]]) \n",
        "# y = [1,2]\n",
        "# X[y]"
      ],
      "execution_count": null,
      "outputs": []
    },
    {
      "cell_type": "markdown",
      "metadata": {
        "id": "xpLoNVld8Gb-"
      },
      "source": [
        "# Train digitwise local models"
      ]
    },
    {
      "cell_type": "code",
      "metadata": {
        "id": "jBCN1TcQ8E0Z"
      },
      "source": [
        "clf_list = []\n",
        "for i in range(10) :\n",
        "  local_X, local_y = local_Xy[i]\n",
        "  # print (local_X.shape, local_y.shape)\n",
        "  clf = RandomForestClassifier()\n",
        "  clf.fit(local_X,local_y)\n",
        "  clf_list.append(clf)"
      ],
      "execution_count": null,
      "outputs": []
    },
    {
      "cell_type": "markdown",
      "metadata": {
        "id": "XOe8ex-t8hrR"
      },
      "source": [
        "# Centralized model performance over local data sets"
      ]
    },
    {
      "cell_type": "code",
      "metadata": {
        "colab": {
          "base_uri": "https://localhost:8080/"
        },
        "id": "UqPodt1g7VMZ",
        "outputId": "312c5a2b-27aa-4b0b-8f71-abaa0cafcd60"
      },
      "source": [
        "for i in range(10) :\n",
        "  local_X, local_y = local_Xy[i]\n",
        "  score = clf_central.score(local_X,local_y)\n",
        "\n",
        "  print (i,score)"
      ],
      "execution_count": null,
      "outputs": [
        {
          "output_type": "stream",
          "name": "stdout",
          "text": [
            "0 0.9955156950672646\n",
            "1 0.7004405286343612\n",
            "2 0.8243243243243243\n",
            "3 0.8464912280701754\n",
            "4 0.915929203539823\n",
            "5 0.9118942731277533\n",
            "6 0.9778761061946902\n",
            "7 0.8839285714285714\n",
            "8 0.863013698630137\n",
            "9 0.7422222222222222\n"
          ]
        }
      ]
    },
    {
      "cell_type": "markdown",
      "metadata": {
        "id": "wjHhFSyw9TDb"
      },
      "source": [
        "# Performance of local models on each other data sets"
      ]
    },
    {
      "cell_type": "code",
      "metadata": {
        "id": "RvMi5pip9WYn"
      },
      "source": [
        "score_mat = np.zeros((10,10))"
      ],
      "execution_count": null,
      "outputs": []
    },
    {
      "cell_type": "code",
      "metadata": {
        "id": "CP1Cs8zM9eOz"
      },
      "source": [
        "for i in range(10) :\n",
        "  for j in range(10) :\n",
        "    local_X, local_y = local_Xy[j]\n",
        "    score_ij = np.round(clf_list[i].score(local_X,local_y),1)\n",
        "    score_mat[i][j] = score_ij"
      ],
      "execution_count": null,
      "outputs": []
    },
    {
      "cell_type": "code",
      "metadata": {
        "colab": {
          "base_uri": "https://localhost:8080/"
        },
        "id": "T6bgktaT90oB",
        "outputId": "2c3587ee-86b9-438f-f671-f2be920b01e0"
      },
      "source": [
        "print (score_mat)"
      ],
      "execution_count": null,
      "outputs": [
        {
          "output_type": "stream",
          "name": "stdout",
          "text": [
            "[[1.  0.7 0.8 0.9 0.8 0.8 0.9 1.  0.8 0.7]\n",
            " [0.9 1.  0.6 0.7 0.6 0.6 0.8 0.8 0.3 0.6]\n",
            " [1.  0.5 1.  0.6 1.  0.8 0.9 0.9 0.3 0.6]\n",
            " [0.9 0.5 0.4 1.  0.9 0.7 0.9 0.5 0.3 0.4]\n",
            " [0.7 0.4 0.9 0.8 1.  0.8 0.9 0.6 0.5 0.7]\n",
            " [0.8 0.6 0.6 0.7 0.7 1.  0.9 0.7 0.5 0.5]\n",
            " [0.9 0.7 0.7 0.8 0.7 0.9 1.  0.9 0.7 0.7]\n",
            " [0.9 0.7 0.9 0.8 0.6 0.5 1.  1.  0.5 0.7]\n",
            " [1.  0.3 0.3 0.5 0.8 0.6 0.9 0.7 1.  0.5]\n",
            " [0.9 0.5 0.7 0.5 0.8 0.6 1.  0.5 0.4 1. ]]\n"
          ]
        }
      ]
    },
    {
      "cell_type": "markdown",
      "metadata": {
        "id": "-6MJ5Sgp-BFz"
      },
      "source": [
        "# Create GMMs for each local device (as proxy for its private data)"
      ]
    },
    {
      "cell_type": "code",
      "metadata": {
        "id": "upmW6rvc-Pu5"
      },
      "source": [
        "n_comp = 6\n",
        "\n",
        "gmm_list = []\n",
        "\n",
        "for i in range(10) :\n",
        "  \n",
        "  gmm_i = GaussianMixture(n_components=n_comp)\n",
        "  \n",
        "  local_X, local_y = local_Xy[i]\n",
        "  \n",
        "  gmm_i.fit(local_X)\n",
        "\n",
        "  gmm_list.append(gmm_i)\n",
        "  "
      ],
      "execution_count": null,
      "outputs": []
    },
    {
      "cell_type": "markdown",
      "metadata": {
        "id": "-O4SyxPoZ00U"
      },
      "source": [
        "# Send local GMMs to Server & Do sampling at Server"
      ]
    },
    {
      "cell_type": "code",
      "metadata": {
        "colab": {
          "base_uri": "https://localhost:8080/"
        },
        "id": "v4-sdaY2Z2uS",
        "outputId": "ceb51e1e-d88e-43ad-b192-b4f8235b69cb"
      },
      "source": [
        "n_samp = 20\n",
        "\n",
        "syn_X_list = []\n",
        "syn_y_list = []\n",
        "\n",
        "for i in range(10):\n",
        "  gmm = gmm_list[i]\n",
        "  syn_X1,_ = gmm.sample(n_samp)\n",
        "  syn_y1 = np.full(n_samp,i)\n",
        "  \n",
        "  syn_X_list.append(syn_X1)\n",
        "  syn_y_list.append(syn_y1)\n",
        "\n",
        "syn_X = np.concatenate(syn_X_list)\n",
        "syn_y = np.concatenate(syn_y_list)\n",
        "\n",
        "print (syn_X.shape,syn_y.shape)"
      ],
      "execution_count": null,
      "outputs": [
        {
          "output_type": "stream",
          "name": "stdout",
          "text": [
            "(200, 64) (200,)\n"
          ]
        }
      ]
    },
    {
      "cell_type": "markdown",
      "metadata": {
        "id": "-6Ft2xyoBdze"
      },
      "source": [
        "# Create updated centralized data set"
      ]
    },
    {
      "cell_type": "code",
      "metadata": {
        "colab": {
          "base_uri": "https://localhost:8080/"
        },
        "id": "P43rD_91BhHN",
        "outputId": "0775b3ed-5e4b-408f-b115-2d733f6977bc"
      },
      "source": [
        "X_central_updated = np.concatenate((X_central,syn_X))\n",
        "y_central_updated = np.concatenate((y_central,syn_y))\n",
        "print (X_central_updated.shape,y_central_updated.shape)"
      ],
      "execution_count": null,
      "outputs": [
        {
          "output_type": "stream",
          "name": "stdout",
          "text": [
            "(250, 64) (250,)\n"
          ]
        }
      ]
    },
    {
      "cell_type": "markdown",
      "metadata": {
        "id": "WIK_AAvnBvqP"
      },
      "source": [
        "# Create updated centralized model"
      ]
    },
    {
      "cell_type": "code",
      "metadata": {
        "colab": {
          "base_uri": "https://localhost:8080/"
        },
        "id": "KAz9WOPUBvCM",
        "outputId": "74d27296-a0df-4c73-f06a-821c54fb66b9"
      },
      "source": [
        "clf_central_updated = RandomForestClassifier()\n",
        "clf_central_updated.fit(X_central_updated,y_central_updated)"
      ],
      "execution_count": null,
      "outputs": [
        {
          "output_type": "execute_result",
          "data": {
            "text/plain": [
              "RandomForestClassifier(bootstrap=True, ccp_alpha=0.0, class_weight=None,\n",
              "                       criterion='gini', max_depth=None, max_features='auto',\n",
              "                       max_leaf_nodes=None, max_samples=None,\n",
              "                       min_impurity_decrease=0.0, min_impurity_split=None,\n",
              "                       min_samples_leaf=1, min_samples_split=2,\n",
              "                       min_weight_fraction_leaf=0.0, n_estimators=100,\n",
              "                       n_jobs=None, oob_score=False, random_state=None,\n",
              "                       verbose=0, warm_start=False)"
            ]
          },
          "metadata": {},
          "execution_count": 24
        }
      ]
    },
    {
      "cell_type": "markdown",
      "metadata": {
        "id": "6Gn9f85hB4Fb"
      },
      "source": [
        ""
      ]
    },
    {
      "cell_type": "markdown",
      "metadata": {
        "id": "bemJ6gS7B4HX"
      },
      "source": [
        "# Evaluate performance of updated centralized model on local data sets"
      ]
    },
    {
      "cell_type": "code",
      "metadata": {
        "colab": {
          "base_uri": "https://localhost:8080/"
        },
        "id": "4foSQ21JB8uC",
        "outputId": "af748949-fd1c-40aa-a8a1-0ffe4fb68ad4"
      },
      "source": [
        "print ('digit','new score')\n",
        "# score_updated ,'new score'\n",
        "for i in range(10) :\n",
        "  local_X, local_y = local_Xy[i]\n",
        "  score_old = np.round(clf_central.score(local_X,local_y),2)\n",
        "  score_updated = np.round(clf_central_updated.score(local_X,local_y),2)\n",
        "  print (i, \"   \" ,score_updated)"
      ],
      "execution_count": null,
      "outputs": [
        {
          "output_type": "stream",
          "name": "stdout",
          "text": [
            "digit new score\n",
            "0     0.99\n",
            "1     0.97\n",
            "2     0.92\n",
            "3     0.94\n",
            "4     0.94\n",
            "5     0.94\n",
            "6     0.98\n",
            "7     0.97\n",
            "8     0.81\n",
            "9     0.85\n"
          ]
        }
      ]
    },
    {
      "cell_type": "markdown",
      "metadata": {
        "id": "CFs92dLaCcIx"
      },
      "source": [
        "# Build updated local models"
      ]
    },
    {
      "cell_type": "code",
      "metadata": {
        "id": "9T5AzDEhCs16"
      },
      "source": [
        "clf_list_updated = []\n",
        "\n",
        "for i in range(10) :\n",
        "  local_X, local_y = local_Xy[i]\n",
        "  X1 = np.concatenate((local_X,X_central_updated))\n",
        "  y1 = np.concatenate((local_y,y_central_updated))\n",
        "  clf = RandomForestClassifier()\n",
        "  clf.fit(X1,y1)\n",
        "  clf_list_updated.append(clf)  "
      ],
      "execution_count": null,
      "outputs": []
    },
    {
      "cell_type": "markdown",
      "metadata": {
        "id": "ePWn7UpsDKWV"
      },
      "source": [
        "# Evaluate performance of updated local models on each other's data sets"
      ]
    },
    {
      "cell_type": "code",
      "metadata": {
        "colab": {
          "base_uri": "https://localhost:8080/"
        },
        "id": "kG_SqqvKDNoR",
        "outputId": "42f38bf8-e9b8-4450-842d-7fd3dacc442e"
      },
      "source": [
        "score_mat_old = score_mat.copy()\n",
        "\n",
        "for i in range(10) :\n",
        "  for j in range(10) :\n",
        "    local_X, local_y = local_Xy[j]\n",
        "    score_ij = np.round(clf_list_updated[i].score(local_X,local_y),1)\n",
        "    score_mat[i][j] = score_ij\n",
        "\n",
        "print (score_mat_old)\n",
        "print (score_mat)"
      ],
      "execution_count": null,
      "outputs": [
        {
          "output_type": "stream",
          "name": "stdout",
          "text": [
            "[[1.  0.7 0.8 0.9 0.8 0.8 0.9 1.  0.8 0.7]\n",
            " [0.9 1.  0.6 0.7 0.6 0.6 0.8 0.8 0.3 0.6]\n",
            " [1.  0.5 1.  0.6 1.  0.8 0.9 0.9 0.3 0.6]\n",
            " [0.9 0.5 0.4 1.  0.9 0.7 0.9 0.5 0.3 0.4]\n",
            " [0.7 0.4 0.9 0.8 1.  0.8 0.9 0.6 0.5 0.7]\n",
            " [0.8 0.6 0.6 0.7 0.7 1.  0.9 0.7 0.5 0.5]\n",
            " [0.9 0.7 0.7 0.8 0.7 0.9 1.  0.9 0.7 0.7]\n",
            " [0.9 0.7 0.9 0.8 0.6 0.5 1.  1.  0.5 0.7]\n",
            " [1.  0.3 0.3 0.5 0.8 0.6 0.9 0.7 1.  0.5]\n",
            " [0.9 0.5 0.7 0.5 0.8 0.6 1.  0.5 0.4 1. ]]\n",
            "[[1.  0.9 0.9 0.9 0.9 0.9 1.  1.  0.9 0.9]\n",
            " [1.  1.  0.8 0.9 0.8 0.9 0.9 0.9 0.6 0.8]\n",
            " [1.  0.7 1.  0.8 1.  0.9 1.  0.9 0.5 0.8]\n",
            " [1.  0.8 0.7 1.  1.  0.8 1.  0.9 0.6 0.6]\n",
            " [0.9 0.8 0.9 0.9 1.  0.9 0.9 0.9 0.7 0.8]\n",
            " [1.  0.9 0.9 0.9 0.9 1.  1.  0.9 0.7 0.7]\n",
            " [1.  0.8 0.9 0.9 0.8 0.9 1.  1.  0.8 0.9]\n",
            " [1.  0.9 0.9 0.9 0.8 0.8 1.  1.  0.7 0.8]\n",
            " [1.  0.5 0.6 0.7 0.9 0.9 1.  0.9 1.  0.7]\n",
            " [1.  0.8 0.9 0.6 0.9 0.8 1.  0.8 0.7 1. ]]\n"
          ]
        }
      ]
    },
    {
      "cell_type": "code",
      "metadata": {
        "colab": {
          "base_uri": "https://localhost:8080/"
        },
        "id": "Kk9fddNEEoM3",
        "outputId": "9eddebfc-f0fa-44e0-9a8b-5d84291c4c8b"
      },
      "source": [
        "np.where([score_mat_old > score_mat])"
      ],
      "execution_count": null,
      "outputs": [
        {
          "output_type": "execute_result",
          "data": {
            "text/plain": [
              "(array([], dtype=int64), array([], dtype=int64), array([], dtype=int64))"
            ]
          },
          "metadata": {},
          "execution_count": 28
        }
      ]
    },
    {
      "cell_type": "markdown",
      "metadata": {
        "id": "QtrIkmIDFHkH"
      },
      "source": [
        "# Conclusion\n",
        "- With addition of updated centralized data, local models have enriched themselves"
      ]
    },
    {
      "cell_type": "code",
      "metadata": {
        "id": "Ab2ATIYvFPjt"
      },
      "source": [
        ""
      ],
      "execution_count": null,
      "outputs": []
    }
  ]
}