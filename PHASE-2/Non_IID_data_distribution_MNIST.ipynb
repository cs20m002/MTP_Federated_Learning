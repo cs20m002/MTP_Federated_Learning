{
  "nbformat": 4,
  "nbformat_minor": 0,
  "metadata": {
    "colab": {
      "name": "Non_IID_data_distribution_MNIST",
      "provenance": []
    },
    "kernelspec": {
      "name": "python3",
      "display_name": "Python 3"
    },
    "language_info": {
      "name": "python"
    }
  },
  "cells": [
    {
      "cell_type": "code",
      "source": [
        "from tensorflow.keras.datasets import mnist"
      ],
      "metadata": {
        "id": "XZBPKhmjTroM"
      },
      "execution_count": 15,
      "outputs": []
    },
    {
      "cell_type": "code",
      "source": [
        "from keras.utils.np_utils import to_categorical\n",
        "from tensorflow.keras.utils import to_categorical\n",
        "import numpy as np"
      ],
      "metadata": {
        "id": "Ddzb5hxfmahi"
      },
      "execution_count": 18,
      "outputs": []
    },
    {
      "cell_type": "code",
      "execution_count": 16,
      "metadata": {
        "colab": {
          "base_uri": "https://localhost:8080/"
        },
        "id": "EnOv7CdyLAcf",
        "outputId": "44618758-6bae-447a-d42a-50e83f47328b"
      },
      "outputs": [
        {
          "output_type": "stream",
          "name": "stdout",
          "text": [
            "Downloading data from https://storage.googleapis.com/tensorflow/tf-keras-datasets/mnist.npz\n",
            "11493376/11490434 [==============================] - 0s 0us/step\n",
            "11501568/11490434 [==============================] - 0s 0us/step\n"
          ]
        }
      ],
      "source": [
        "(trainX, trainY), (testX, testY) = mnist.load_data()"
      ]
    },
    {
      "cell_type": "code",
      "source": [
        "def get_nid_dataset(trainX_nid,trainY_nid,model_name):\n",
        "  sorted_label_list=[]\n",
        "  local_xy_nid=[]\n",
        "  local_shrad_nid=[]\n",
        "  for i in range(np.size((np.unique([trainY_nid])))) :\n",
        "    _,label = np.where([trainY_nid==i]) \n",
        "  \n",
        "    sorted_label_list.append(label)\n",
        "  sorted_label= np.hstack(sorted_label_list)\n",
        "  trainY_nid=trainY_nid[sorted_label]\n",
        "  trainX_nid=trainX_nid[sorted_label]\n",
        "  trainY_nid= to_categorical(trainY_nid)\n",
        "  s=0\n",
        "  client_count=100\n",
        "  e=300# shrad size\n",
        "  num_shrads=200\n",
        "  for i in range(0,num_shrads):\n",
        "    local_x=trainX_nid[s:e,:]\n",
        "    local_y=trainY_nid[s:e,:]\n",
        "    if model_name==\"CNN\":\n",
        "     local_x = local_x.reshape((local_x.shape[0], 28, 28, 1)) \n",
        "    local_shrad_nid.append((local_x,local_y))\n",
        "    s=e\n",
        "    e+=300\n",
        "  j=0\n",
        " # rand_index=np.random.shuffle(np.arrange(num_shrads))\n",
        "  for i in range(0,num_shrads):\n",
        "    \n",
        "    local_x,local_y=local_shrad_nid[i]\n",
        "   \n",
        "    if(j>=100):\n",
        "      j=j%100\n",
        "      local_xy_nid[j].append((local_x,local_y))\n",
        "    else:\n",
        "      local_xy_nid.append((local_x,local_y))\n",
        "    j=+1\n",
        "  \n",
        "  print(\"non-iid data distribution done \")\n",
        "  return local_xy_nid"
      ],
      "metadata": {
        "id": "OzhM5y7OLQIU"
      },
      "execution_count": 19,
      "outputs": []
    },
    {
      "cell_type": "code",
      "source": [
        "# For 2NN Model\n",
        "# get the local datasets\n",
        "trainX_nid, trainY_nid, testX_nid, testY_nid =trainX, trainY, testX, testY \n",
        "print(trainX_nid.shape,trainY_nid.shape,testX_nid.shape,testY_nid.shape)\n",
        "local_xy_nid=get_nid_dataset(trainX_nid,trainY_nid,'2NN')"
      ],
      "metadata": {
        "colab": {
          "base_uri": "https://localhost:8080/"
        },
        "id": "h4gKPvbcLS0r",
        "outputId": "4d921267-b755-40eb-b344-94d6d04b326b"
      },
      "execution_count": 21,
      "outputs": [
        {
          "output_type": "stream",
          "name": "stdout",
          "text": [
            "(60000, 28, 28) (60000,) (10000, 28, 28) (10000,)\n",
            "non-iid data distribution done \n"
          ]
        }
      ]
    },
    {
      "cell_type": "code",
      "source": [
        "# For CNN Model\n",
        "trainX_nid, trainY_nid, testX_nid, testY_nid =trainX, trainY, testX, testY \n",
        "# get the local datasets\n",
        "local_xy_nid=get_nid_dataset(trainX_nid,trainY_nid,'CNN')"
      ],
      "metadata": {
        "colab": {
          "base_uri": "https://localhost:8080/"
        },
        "id": "7orIhs4znAmd",
        "outputId": "21a146f2-1a85-4eab-bd92-bfc2f3fe3448"
      },
      "execution_count": 22,
      "outputs": [
        {
          "output_type": "stream",
          "name": "stdout",
          "text": [
            "non-iid data distribution done \n"
          ]
        }
      ]
    }
  ]
}